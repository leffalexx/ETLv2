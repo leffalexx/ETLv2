{
 "cells": [
  {
   "cell_type": "markdown",
   "id": "136110a2",
   "metadata": {},
   "source": [
    "### 1. Скачайте датасет fifаs2.сsv. Проанализируйте его и определите, какие данные являются неполными. Удалите ненужные колонки и недостающие значения."
   ]
  },
  {
   "cell_type": "code",
   "execution_count": 168,
   "id": "93a938e8",
   "metadata": {},
   "outputs": [],
   "source": [
    "import pandas as pd\n",
    "df = pd.read_csv('fifa_s2.csv')"
   ]
  },
  {
   "cell_type": "markdown",
   "id": "9047b67b",
   "metadata": {},
   "source": [
    "Посмотрим на размер датасета, типы данных и чем он заполнен."
   ]
  },
  {
   "cell_type": "code",
   "execution_count": 169,
   "id": "23afb9f3",
   "metadata": {},
   "outputs": [
    {
     "data": {
      "text/plain": [
       "(2399, 18)"
      ]
     },
     "execution_count": 169,
     "metadata": {},
     "output_type": "execute_result"
    }
   ],
   "source": [
    "df.shape\n"
   ]
  },
  {
   "cell_type": "code",
   "execution_count": 170,
   "id": "75f43b24",
   "metadata": {},
   "outputs": [
    {
     "data": {
      "text/plain": [
       "ID                            int64\n",
       "Name                         object\n",
       "Age                           int64\n",
       "Nationality                  object\n",
       "Overall                       int64\n",
       "Potential                     int64\n",
       "Club                         object\n",
       "Value                       float64\n",
       "Wage                          int64\n",
       "Preferred Foot               object\n",
       "International Reputation    float64\n",
       "Skill Moves                 float64\n",
       "Position                     object\n",
       "Joined                        int64\n",
       "Contract Valid Until         object\n",
       "Height                      float64\n",
       "Weight                      float64\n",
       "Release Clause              float64\n",
       "dtype: object"
      ]
     },
     "execution_count": 170,
     "metadata": {},
     "output_type": "execute_result"
    }
   ],
   "source": [
    "df.dtypes"
   ]
  },
  {
   "cell_type": "code",
   "execution_count": 171,
   "id": "980f3559",
   "metadata": {},
   "outputs": [
    {
     "data": {
      "text/plain": [
       "<bound method NDFrame.head of           ID           Name  Age  Nationality  Overall  Potential  \\\n",
       "0       1179      G. Buffon   40        Italy       88         88   \n",
       "1       5479       Casillas   37        Spain       82         82   \n",
       "2       8205          Braga   35     Portugal       70         70   \n",
       "3       9014      A. Robben   34  Netherlands       84         84   \n",
       "4      19521      J. Ibehre   35      England       61         61   \n",
       "...      ...            ...  ...          ...      ...        ...   \n",
       "2394  246465       Guerrero   16        Spain       63         76   \n",
       "2395  246594    H. Massengo   16       France       62         75   \n",
       "2396  246599  Guillem Jaime   19        Spain       64         80   \n",
       "2397  246606    Fran García   18        Spain       64         79   \n",
       "2398  246608        Fidalgo   21        Spain       65         75   \n",
       "\n",
       "                     Club    Value  Wage Preferred Foot  \\\n",
       "0     Paris Saint-Germain   4000.0    77          Right   \n",
       "1                FC Porto   1500.0    10           Left   \n",
       "2                 CD Aves    750.0     5          Right   \n",
       "3       FC Bayern München  15500.0   110           Left   \n",
       "4        Cambridge United    120.0     2          Right   \n",
       "...                   ...      ...   ...            ...   \n",
       "2394  CF Rayo Majadahonda    625.0     1           Left   \n",
       "2395            AS Monaco    450.0     2          Right   \n",
       "2396         FC Barcelona    975.0    13          Right   \n",
       "2397          Real Madrid    825.0     9           Left   \n",
       "2398          Real Madrid    875.0    20          Right   \n",
       "\n",
       "      International Reputation  Skill Moves Position  Joined  \\\n",
       "0                          4.0          1.0       GK    2018   \n",
       "1                          4.0          1.0      NaN    2015   \n",
       "2                          1.0          3.0      LCM    2017   \n",
       "3                          4.0          4.0       RM    2009   \n",
       "4                          1.0          2.0       ST    2017   \n",
       "...                        ...          ...      ...     ...   \n",
       "2394                       1.0          3.0       CM    2018   \n",
       "2395                       1.0          2.0      CDM    2018   \n",
       "2396                       1.0          3.0       RW    2018   \n",
       "2397                       1.0          2.0       LB    2018   \n",
       "2398                       1.0          3.0       CM    2016   \n",
       "\n",
       "     Contract Valid Until    Height  Weight  Release Clause  \n",
       "0              01/01/2019  6.333333   203.0          7400.0  \n",
       "1              01/01/2019  6.083333   185.0          3000.0  \n",
       "2              01/01/2019  5.916667   165.0          1600.0  \n",
       "3              01/01/2019  5.916667   176.0         25600.0  \n",
       "4              01/01/2019  6.333333   203.0           210.0  \n",
       "...                   ...       ...     ...             ...  \n",
       "2394           01/01/2019  5.916667   165.0          1400.0  \n",
       "2395           01/01/2021  5.833333   146.0          1100.0  \n",
       "2396           01/01/2020  5.833333   154.0          2600.0  \n",
       "2397           01/01/2019  5.583333   139.0          2200.0  \n",
       "2398           01/01/2019  5.750000   150.0          2000.0  \n",
       "\n",
       "[2399 rows x 18 columns]>"
      ]
     },
     "execution_count": 171,
     "metadata": {},
     "output_type": "execute_result"
    }
   ],
   "source": [
    "df.head"
   ]
  },
  {
   "cell_type": "markdown",
   "id": "6ba5c37c",
   "metadata": {},
   "source": [
    "В датасете 2399 строк и 18 колонок. Типы данных соответствуют содержимому колонок. Посмотрим полные ли данные:"
   ]
  },
  {
   "cell_type": "code",
   "execution_count": 172,
   "id": "c5aa8e2b",
   "metadata": {},
   "outputs": [
    {
     "data": {
      "text/plain": [
       "<AxesSubplot:>"
      ]
     },
     "execution_count": 172,
     "metadata": {},
     "output_type": "execute_result"
    },
    {
     "data": {
      "image/png": "[encoded data removed]",
      "text/plain": [
       "<Figure size 640x480 with 2 Axes>"
      ]
     },
     "metadata": {},
     "output_type": "display_data"
    }
   ],
   "source": [
    "import seaborn as sns\n",
    "cols = df.columns[:100]\n",
    "colors = ['#000555', '#FFFFFF']\n",
    "sns.heatmap(df[cols].isnull(), cmap = sns.color_palette(colors))"
   ]
  },
  {
   "cell_type": "code",
   "execution_count": 173,
   "id": "81ec23b8",
   "metadata": {},
   "outputs": [
    {
     "name": "stdout",
     "output_type": "stream",
     "text": [
      "ID - 0.0%\n",
      "Name - 0.0%\n",
      "Age - 0.0%\n",
      "Nationality - 0.29%\n",
      "Overall - 0.0%\n",
      "Potential - 0.0%\n",
      "Club - 10.05%\n",
      "Value - 10.71%\n",
      "Wage - 0.0%\n",
      "Preferred Foot - 0.0%\n",
      "International Reputation - 0.42%\n",
      "Skill Moves - 0.25%\n",
      "Position - 0.88%\n",
      "Joined - 0.0%\n",
      "Contract Valid Until - 11.38%\n",
      "Height - 0.0%\n",
      "Weight - 0.0%\n",
      "Release Clause - 0.13%\n"
     ]
    }
   ],
   "source": [
    "import numpy as np\n",
    "for col in df.columns:\n",
    "    missing_values = np.mean(df[col].isnull())\n",
    "    print('{} - {}%'.format(col,round(missing_values*100, 2)))"
   ]
  },
  {
   "cell_type": "markdown",
   "id": "3f623ead",
   "metadata": {},
   "source": [
    "Много пропусков в столбцах Club, Value и Contract Valid Until. Очевидно, что спортсмены без текущей принадлежности к клубу не имеют цены выкупа и даты конца контракта. Для начала заполним пустые ячейки в столбце 'Club' на значение 'Free agent'."
   ]
  },
  {
   "cell_type": "code",
   "execution_count": 174,
   "id": "81755055",
   "metadata": {},
   "outputs": [],
   "source": [
    "df['Club'] = df['Club'].fillna('Free agent')"
   ]
  },
  {
   "cell_type": "markdown",
   "id": "9f9e2533",
   "metadata": {},
   "source": [
    "Теперь заполним значением '0' цену выкупа контракта спортсменов, у которых нет контракта."
   ]
  },
  {
   "cell_type": "code",
   "execution_count": 175,
   "id": "86f2005f",
   "metadata": {},
   "outputs": [],
   "source": [
    "def fill_with_zeros(df):\n",
    "    df.loc[df['Club'] == 'Free agent', 'Value'] = 0\n",
    "    return df"
   ]
  },
  {
   "cell_type": "code",
   "execution_count": 176,
   "id": "f995a8c2",
   "metadata": {},
   "outputs": [],
   "source": [
    "df = fill_with_zeros(df)"
   ]
  },
  {
   "cell_type": "markdown",
   "id": "45ad0fff",
   "metadata": {},
   "source": [
    "И похожей функцией заполним зату окончания контракта значением 'No contract'"
   ]
  },
  {
   "cell_type": "code",
   "execution_count": 177,
   "id": "b073a542",
   "metadata": {},
   "outputs": [],
   "source": [
    "def fill_contract(df):\n",
    "    df.loc[df['Club'] == 'Free agent', 'Contract Valid Until'] = 'No contract'\n",
    "    return df"
   ]
  },
  {
   "cell_type": "code",
   "execution_count": 178,
   "id": "30bd12a6",
   "metadata": {},
   "outputs": [],
   "source": [
    "df = fill_contract(df)"
   ]
  },
  {
   "cell_type": "markdown",
   "id": "b5fd14bb",
   "metadata": {},
   "source": [
    "Есть небольшие пропуски данных в столбцах 'Nationality', 'International Reputation', 'Skill Moves', 'Position' и 'Release Clause'. Я не могу заполнить эти данные ничем, кроме заглушек, потому что это в основном качественные, а не числовые значения. Но речь идет о десятых долях процента, поэтому я бы оставил как есть. Если бы все же заполнял, то таким образом:"
   ]
  },
  {
   "cell_type": "code",
   "execution_count": 179,
   "id": "ec396bab",
   "metadata": {},
   "outputs": [],
   "source": [
    "df['Nationality'] = df['Nationality'].fillna('No data')"
   ]
  },
  {
   "cell_type": "markdown",
   "id": "d55bcd3c",
   "metadata": {},
   "source": [
    "### 2. Найдите в датафрейме полные дубликаты и удалите их. Значения могут быть одинаковыми, но написаны по-разному. Например, может отличаться размер регистра (заглавные и строчные буквы). Особое внимание уделить колонке с названиями команд."
   ]
  },
  {
   "cell_type": "markdown",
   "id": "fc088272",
   "metadata": {},
   "source": [
    "Для начала посмотрим что не так с колонкой названия команд:"
   ]
  },
  {
   "cell_type": "code",
   "execution_count": 180,
   "id": "09fcf90d",
   "metadata": {},
   "outputs": [
    {
     "name": "stdout",
     "output_type": "stream",
     "text": [
      "Free agent            241\n",
      "Manchester City        33\n",
      "Arsenal                33\n",
      "CD Leganés             33\n",
      "Cardiff City           33\n",
      "                     ... \n",
      "Fc Barcelona            2\n",
      "Livingston FC           1\n",
      "FC Heidenheim 1846      1\n",
      "Aalborg BK              1\n",
      "FC Köln                 1\n",
      "Name: Club, Length: 82, dtype: int64\n"
     ]
    }
   ],
   "source": [
    "teams_display = df['Club'].value_counts()\n",
    "print(teams_display)"
   ]
  },
  {
   "cell_type": "markdown",
   "id": "07f8aec7",
   "metadata": {},
   "source": [
    "Дело похоже в том, что некоторые названия клубов написаны в разных регистрах. Приведем все к нижнему регистру:"
   ]
  },
  {
   "cell_type": "code",
   "execution_count": 181,
   "id": "ef107678",
   "metadata": {},
   "outputs": [],
   "source": [
    "df = df.applymap(lambda x: x.lower() if type(x) == str else x)"
   ]
  },
  {
   "cell_type": "markdown",
   "id": "fb5ab5aa",
   "metadata": {},
   "source": [
    "Не вполне помогло, убрали только дубликат FC Barcelona. Проблема скорее всего в пробелах. Применим метод strip для удаления пробелов в начале и конце значения:"
   ]
  },
  {
   "cell_type": "code",
   "execution_count": 182,
   "id": "fd1523ee",
   "metadata": {},
   "outputs": [],
   "source": [
    "df['Club'] = df['Club'].str.strip()"
   ]
  },
  {
   "cell_type": "markdown",
   "id": "e41159f4",
   "metadata": {},
   "source": [
    "_Не могу понять почему не работает, даже все пробелы менял на пустое значение, все равно FC Köln и FC Heidenheim 1846 Pandas считает уникальными_"
   ]
  },
  {
   "cell_type": "markdown",
   "id": "5dc2b552",
   "metadata": {},
   "source": [
    "Найдем дубликаты:"
   ]
  },
  {
   "cell_type": "code",
   "execution_count": 183,
   "id": "eaeebea9",
   "metadata": {},
   "outputs": [
    {
     "name": "stdout",
     "output_type": "stream",
     "text": [
      "         ID        Name  Age Nationality  Overall  Potential          Club  \\\n",
      "154  168651  i. rakitić   30     croatia       87         87  fc barcelona   \n",
      "304  181872    a. vidal   31       chile       85         85  fc barcelona   \n",
      "\n",
      "       Value  Wage Preferred Foot  International Reputation  Skill Moves  \\\n",
      "154  46500.0   260          right                       4.0          3.0   \n",
      "304  26000.0   205          right                       4.0          3.0   \n",
      "\n",
      "    Position  Joined Contract Valid Until    Height  Weight  Release Clause  \n",
      "154      rcm    2014           01/01/2021  6.000000   172.0         95300.0  \n",
      "304      cam    2018           01/01/2021  5.916667   165.0         53300.0  \n"
     ]
    }
   ],
   "source": [
    "duplicates = df[df.duplicated()]\n",
    "print(duplicates)"
   ]
  },
  {
   "cell_type": "markdown",
   "id": "6646624b",
   "metadata": {},
   "source": [
    "Что интересно, без приведения в нижний регистр дубликаты не находились."
   ]
  },
  {
   "cell_type": "markdown",
   "id": "52b67e97",
   "metadata": {},
   "source": [
    "Удалим дубликаты:"
   ]
  },
  {
   "cell_type": "code",
   "execution_count": 184,
   "id": "2f876feb",
   "metadata": {},
   "outputs": [
    {
     "data": {
      "text/html": [
       "<div>\n",
       "<style scoped>\n",
       "    .dataframe tbody tr th:only-of-type {\n",
       "        vertical-align: middle;\n",
       "    }\n",
       "\n",
       "    .dataframe tbody tr th {\n",
       "        vertical-align: top;\n",
       "    }\n",
       "\n",
       "    .dataframe thead th {\n",
       "        text-align: right;\n",
       "    }\n",
       "</style>\n",
       "<table border=\"1\" class=\"dataframe\">\n",
       "  <thead>\n",
       "    <tr style=\"text-align: right;\">\n",
       "      <th></th>\n",
       "      <th>ID</th>\n",
       "      <th>Name</th>\n",
       "      <th>Age</th>\n",
       "      <th>Nationality</th>\n",
       "      <th>Overall</th>\n",
       "      <th>Potential</th>\n",
       "      <th>Club</th>\n",
       "      <th>Value</th>\n",
       "      <th>Wage</th>\n",
       "      <th>Preferred Foot</th>\n",
       "      <th>International Reputation</th>\n",
       "      <th>Skill Moves</th>\n",
       "      <th>Position</th>\n",
       "      <th>Joined</th>\n",
       "      <th>Contract Valid Until</th>\n",
       "      <th>Height</th>\n",
       "      <th>Weight</th>\n",
       "      <th>Release Clause</th>\n",
       "    </tr>\n",
       "  </thead>\n",
       "  <tbody>\n",
       "    <tr>\n",
       "      <th>0</th>\n",
       "      <td>1179</td>\n",
       "      <td>g. buffon</td>\n",
       "      <td>40</td>\n",
       "      <td>italy</td>\n",
       "      <td>88</td>\n",
       "      <td>88</td>\n",
       "      <td>paris saint-germain</td>\n",
       "      <td>4000.0</td>\n",
       "      <td>77</td>\n",
       "      <td>right</td>\n",
       "      <td>4.0</td>\n",
       "      <td>1.0</td>\n",
       "      <td>gk</td>\n",
       "      <td>2018</td>\n",
       "      <td>01/01/2019</td>\n",
       "      <td>6.333333</td>\n",
       "      <td>203.0</td>\n",
       "      <td>7400.0</td>\n",
       "    </tr>\n",
       "    <tr>\n",
       "      <th>1</th>\n",
       "      <td>5479</td>\n",
       "      <td>casillas</td>\n",
       "      <td>37</td>\n",
       "      <td>spain</td>\n",
       "      <td>82</td>\n",
       "      <td>82</td>\n",
       "      <td>fc porto</td>\n",
       "      <td>1500.0</td>\n",
       "      <td>10</td>\n",
       "      <td>left</td>\n",
       "      <td>4.0</td>\n",
       "      <td>1.0</td>\n",
       "      <td>NaN</td>\n",
       "      <td>2015</td>\n",
       "      <td>01/01/2019</td>\n",
       "      <td>6.083333</td>\n",
       "      <td>185.0</td>\n",
       "      <td>3000.0</td>\n",
       "    </tr>\n",
       "    <tr>\n",
       "      <th>2</th>\n",
       "      <td>8205</td>\n",
       "      <td>braga</td>\n",
       "      <td>35</td>\n",
       "      <td>portugal</td>\n",
       "      <td>70</td>\n",
       "      <td>70</td>\n",
       "      <td>cd aves</td>\n",
       "      <td>750.0</td>\n",
       "      <td>5</td>\n",
       "      <td>right</td>\n",
       "      <td>1.0</td>\n",
       "      <td>3.0</td>\n",
       "      <td>lcm</td>\n",
       "      <td>2017</td>\n",
       "      <td>01/01/2019</td>\n",
       "      <td>5.916667</td>\n",
       "      <td>165.0</td>\n",
       "      <td>1600.0</td>\n",
       "    </tr>\n",
       "    <tr>\n",
       "      <th>3</th>\n",
       "      <td>9014</td>\n",
       "      <td>a. robben</td>\n",
       "      <td>34</td>\n",
       "      <td>netherlands</td>\n",
       "      <td>84</td>\n",
       "      <td>84</td>\n",
       "      <td>fc bayern münchen</td>\n",
       "      <td>15500.0</td>\n",
       "      <td>110</td>\n",
       "      <td>left</td>\n",
       "      <td>4.0</td>\n",
       "      <td>4.0</td>\n",
       "      <td>rm</td>\n",
       "      <td>2009</td>\n",
       "      <td>01/01/2019</td>\n",
       "      <td>5.916667</td>\n",
       "      <td>176.0</td>\n",
       "      <td>25600.0</td>\n",
       "    </tr>\n",
       "    <tr>\n",
       "      <th>4</th>\n",
       "      <td>19521</td>\n",
       "      <td>j. ibehre</td>\n",
       "      <td>35</td>\n",
       "      <td>england</td>\n",
       "      <td>61</td>\n",
       "      <td>61</td>\n",
       "      <td>cambridge united</td>\n",
       "      <td>120.0</td>\n",
       "      <td>2</td>\n",
       "      <td>right</td>\n",
       "      <td>1.0</td>\n",
       "      <td>2.0</td>\n",
       "      <td>st</td>\n",
       "      <td>2017</td>\n",
       "      <td>01/01/2019</td>\n",
       "      <td>6.333333</td>\n",
       "      <td>203.0</td>\n",
       "      <td>210.0</td>\n",
       "    </tr>\n",
       "    <tr>\n",
       "      <th>...</th>\n",
       "      <td>...</td>\n",
       "      <td>...</td>\n",
       "      <td>...</td>\n",
       "      <td>...</td>\n",
       "      <td>...</td>\n",
       "      <td>...</td>\n",
       "      <td>...</td>\n",
       "      <td>...</td>\n",
       "      <td>...</td>\n",
       "      <td>...</td>\n",
       "      <td>...</td>\n",
       "      <td>...</td>\n",
       "      <td>...</td>\n",
       "      <td>...</td>\n",
       "      <td>...</td>\n",
       "      <td>...</td>\n",
       "      <td>...</td>\n",
       "      <td>...</td>\n",
       "    </tr>\n",
       "    <tr>\n",
       "      <th>2394</th>\n",
       "      <td>246465</td>\n",
       "      <td>guerrero</td>\n",
       "      <td>16</td>\n",
       "      <td>spain</td>\n",
       "      <td>63</td>\n",
       "      <td>76</td>\n",
       "      <td>cf rayo majadahonda</td>\n",
       "      <td>625.0</td>\n",
       "      <td>1</td>\n",
       "      <td>left</td>\n",
       "      <td>1.0</td>\n",
       "      <td>3.0</td>\n",
       "      <td>cm</td>\n",
       "      <td>2018</td>\n",
       "      <td>01/01/2019</td>\n",
       "      <td>5.916667</td>\n",
       "      <td>165.0</td>\n",
       "      <td>1400.0</td>\n",
       "    </tr>\n",
       "    <tr>\n",
       "      <th>2395</th>\n",
       "      <td>246594</td>\n",
       "      <td>h. massengo</td>\n",
       "      <td>16</td>\n",
       "      <td>france</td>\n",
       "      <td>62</td>\n",
       "      <td>75</td>\n",
       "      <td>as monaco</td>\n",
       "      <td>450.0</td>\n",
       "      <td>2</td>\n",
       "      <td>right</td>\n",
       "      <td>1.0</td>\n",
       "      <td>2.0</td>\n",
       "      <td>cdm</td>\n",
       "      <td>2018</td>\n",
       "      <td>01/01/2021</td>\n",
       "      <td>5.833333</td>\n",
       "      <td>146.0</td>\n",
       "      <td>1100.0</td>\n",
       "    </tr>\n",
       "    <tr>\n",
       "      <th>2396</th>\n",
       "      <td>246599</td>\n",
       "      <td>guillem jaime</td>\n",
       "      <td>19</td>\n",
       "      <td>spain</td>\n",
       "      <td>64</td>\n",
       "      <td>80</td>\n",
       "      <td>fc barcelona</td>\n",
       "      <td>975.0</td>\n",
       "      <td>13</td>\n",
       "      <td>right</td>\n",
       "      <td>1.0</td>\n",
       "      <td>3.0</td>\n",
       "      <td>rw</td>\n",
       "      <td>2018</td>\n",
       "      <td>01/01/2020</td>\n",
       "      <td>5.833333</td>\n",
       "      <td>154.0</td>\n",
       "      <td>2600.0</td>\n",
       "    </tr>\n",
       "    <tr>\n",
       "      <th>2397</th>\n",
       "      <td>246606</td>\n",
       "      <td>fran garcía</td>\n",
       "      <td>18</td>\n",
       "      <td>spain</td>\n",
       "      <td>64</td>\n",
       "      <td>79</td>\n",
       "      <td>real madrid</td>\n",
       "      <td>825.0</td>\n",
       "      <td>9</td>\n",
       "      <td>left</td>\n",
       "      <td>1.0</td>\n",
       "      <td>2.0</td>\n",
       "      <td>lb</td>\n",
       "      <td>2018</td>\n",
       "      <td>01/01/2019</td>\n",
       "      <td>5.583333</td>\n",
       "      <td>139.0</td>\n",
       "      <td>2200.0</td>\n",
       "    </tr>\n",
       "    <tr>\n",
       "      <th>2398</th>\n",
       "      <td>246608</td>\n",
       "      <td>fidalgo</td>\n",
       "      <td>21</td>\n",
       "      <td>spain</td>\n",
       "      <td>65</td>\n",
       "      <td>75</td>\n",
       "      <td>real madrid</td>\n",
       "      <td>875.0</td>\n",
       "      <td>20</td>\n",
       "      <td>right</td>\n",
       "      <td>1.0</td>\n",
       "      <td>3.0</td>\n",
       "      <td>cm</td>\n",
       "      <td>2016</td>\n",
       "      <td>01/01/2019</td>\n",
       "      <td>5.750000</td>\n",
       "      <td>150.0</td>\n",
       "      <td>2000.0</td>\n",
       "    </tr>\n",
       "  </tbody>\n",
       "</table>\n",
       "<p>2397 rows × 18 columns</p>\n",
       "</div>"
      ],
      "text/plain": [
       "          ID           Name  Age  Nationality  Overall  Potential  \\\n",
       "0       1179      g. buffon   40        italy       88         88   \n",
       "1       5479       casillas   37        spain       82         82   \n",
       "2       8205          braga   35     portugal       70         70   \n",
       "3       9014      a. robben   34  netherlands       84         84   \n",
       "4      19521      j. ibehre   35      england       61         61   \n",
       "...      ...            ...  ...          ...      ...        ...   \n",
       "2394  246465       guerrero   16        spain       63         76   \n",
       "2395  246594    h. massengo   16       france       62         75   \n",
       "2396  246599  guillem jaime   19        spain       64         80   \n",
       "2397  246606    fran garcía   18        spain       64         79   \n",
       "2398  246608        fidalgo   21        spain       65         75   \n",
       "\n",
       "                     Club    Value  Wage Preferred Foot  \\\n",
       "0     paris saint-germain   4000.0    77          right   \n",
       "1                fc porto   1500.0    10           left   \n",
       "2                 cd aves    750.0     5          right   \n",
       "3       fc bayern münchen  15500.0   110           left   \n",
       "4        cambridge united    120.0     2          right   \n",
       "...                   ...      ...   ...            ...   \n",
       "2394  cf rayo majadahonda    625.0     1           left   \n",
       "2395            as monaco    450.0     2          right   \n",
       "2396         fc barcelona    975.0    13          right   \n",
       "2397          real madrid    825.0     9           left   \n",
       "2398          real madrid    875.0    20          right   \n",
       "\n",
       "      International Reputation  Skill Moves Position  Joined  \\\n",
       "0                          4.0          1.0       gk    2018   \n",
       "1                          4.0          1.0      NaN    2015   \n",
       "2                          1.0          3.0      lcm    2017   \n",
       "3                          4.0          4.0       rm    2009   \n",
       "4                          1.0          2.0       st    2017   \n",
       "...                        ...          ...      ...     ...   \n",
       "2394                       1.0          3.0       cm    2018   \n",
       "2395                       1.0          2.0      cdm    2018   \n",
       "2396                       1.0          3.0       rw    2018   \n",
       "2397                       1.0          2.0       lb    2018   \n",
       "2398                       1.0          3.0       cm    2016   \n",
       "\n",
       "     Contract Valid Until    Height  Weight  Release Clause  \n",
       "0              01/01/2019  6.333333   203.0          7400.0  \n",
       "1              01/01/2019  6.083333   185.0          3000.0  \n",
       "2              01/01/2019  5.916667   165.0          1600.0  \n",
       "3              01/01/2019  5.916667   176.0         25600.0  \n",
       "4              01/01/2019  6.333333   203.0           210.0  \n",
       "...                   ...       ...     ...             ...  \n",
       "2394           01/01/2019  5.916667   165.0          1400.0  \n",
       "2395           01/01/2021  5.833333   146.0          1100.0  \n",
       "2396           01/01/2020  5.833333   154.0          2600.0  \n",
       "2397           01/01/2019  5.583333   139.0          2200.0  \n",
       "2398           01/01/2019  5.750000   150.0          2000.0  \n",
       "\n",
       "[2397 rows x 18 columns]"
      ]
     },
     "execution_count": 184,
     "metadata": {},
     "output_type": "execute_result"
    }
   ],
   "source": [
    "df.drop_duplicates()"
   ]
  },
  {
   "cell_type": "markdown",
   "id": "a721582b",
   "metadata": {},
   "source": [
    "### 3. Напишите функцию, которая добавит колонку с разбиением возраста по группам: до 20, от 20 до 30, от 30 до 36 и старше 36. Посчитайте количество футболистов в каждой категории."
   ]
  },
  {
   "cell_type": "code",
   "execution_count": 185,
   "id": "d6b2b7bf",
   "metadata": {},
   "outputs": [],
   "source": [
    "def group_by_age(Age):\n",
    "    if Age < 20:\n",
    "        return '<20'\n",
    "    elif 20 <= Age < 30:\n",
    "        return '20-30'\n",
    "    elif 30 <= Age < 36:\n",
    "        return '30-36'\n",
    "    else:\n",
    "        return '36+'\n",
    "\n",
    "df['group_by_age'] = df['Age'].apply(group_by_age)"
   ]
  },
  {
   "cell_type": "code",
   "execution_count": 186,
   "id": "117b3b34",
   "metadata": {},
   "outputs": [
    {
     "name": "stdout",
     "output_type": "stream",
     "text": [
      "20-30    1646\n",
      "30-36     460\n",
      "<20       270\n",
      "36+        23\n",
      "Name: group_by_age, dtype: int64\n"
     ]
    }
   ],
   "source": [
    "counts = df['group_by_age'].value_counts()\n",
    "print(counts)"
   ]
  },
  {
   "cell_type": "code",
   "execution_count": null,
   "id": "ef705b1e",
   "metadata": {},
   "outputs": [],
   "source": []
  }
 ],
 "metadata": {
  "kernelspec": {
   "display_name": "Python 3 (ipykernel)",
   "language": "python",
   "name": "python3"
  },
  "language_info": {
   "codemirror_mode": {
    "name": "ipython",
    "version": 3
   },
   "file_extension": ".py",
   "mimetype": "text/x-python",
   "name": "python",
   "nbconvert_exporter": "python",
   "pygments_lexer": "ipython3",
   "version": "3.9.13"
  }
 },
 "nbformat": 4,
 "nbformat_minor": 5
}
